{
  "nbformat": 4,
  "nbformat_minor": 0,
  "metadata": {
    "colab": {
      "provenance": []
    },
    "kernelspec": {
      "name": "python3",
      "display_name": "Python 3"
    },
    "language_info": {
      "name": "python"
    }
  },
  "cells": [
    {
      "cell_type": "code",
      "execution_count": 1,
      "metadata": {
        "colab": {
          "base_uri": "https://localhost:8080/"
        },
        "id": "KwIUjAqUQ5VZ",
        "outputId": "91204a3c-e0eb-4779-aa06-e8f4cb4c3677"
      },
      "outputs": [
        {
          "output_type": "stream",
          "name": "stdout",
          "text": [
            " * Serving Flask app '__main__'\n",
            " * Debug mode: on\n"
          ]
        },
        {
          "output_type": "stream",
          "name": "stderr",
          "text": [
            "INFO:werkzeug:\u001b[31m\u001b[1mWARNING: This is a development server. Do not use it in a production deployment. Use a production WSGI server instead.\u001b[0m\n",
            " * Running on http://127.0.0.1:5000\n",
            "INFO:werkzeug:\u001b[33mPress CTRL+C to quit\u001b[0m\n",
            "INFO:werkzeug: * Restarting with stat\n"
          ]
        }
      ],
      "source": [
        "from flask import Flask, request, jsonify, render_template\n",
        "\n",
        "app = Flask(__name__)\n",
        "\n",
        "# Tax Brackets for Nigeria\n",
        "def calculate_tax(income, deductions):\n",
        "    CRA = max(0.2 * income + 200000, 0)  # Consolidated Relief Allowance\n",
        "    taxable_income = max(income - deductions - CRA, 0)\n",
        "\n",
        "    tax_brackets = [\n",
        "        {'rate': 0.07, 'limit': 300000},\n",
        "        {'rate': 0.11, 'limit': 600000},\n",
        "        {'rate': 0.15, 'limit': 1100000},\n",
        "        {'rate': 0.19, 'limit': 1600000},\n",
        "        {'rate': 0.21, 'limit': 3200000},\n",
        "        {'rate': 0.24, 'limit': float('inf')},\n",
        "    ]\n",
        "\n",
        "    total_tax = 0\n",
        "    remaining_income = taxable_income\n",
        "\n",
        "    for bracket in tax_brackets:\n",
        "        if remaining_income <= 0:\n",
        "            break\n",
        "        taxable_at_this_rate = min(remaining_income, bracket['limit'])\n",
        "        total_tax += taxable_at_this_rate * bracket['rate']\n",
        "        remaining_income -= taxable_at_this_rate\n",
        "\n",
        "    net_income = income - total_tax - deductions\n",
        "\n",
        "    return {\n",
        "        'gross_income': income,\n",
        "        'total_deductions': deductions,\n",
        "        'taxable_income': taxable_income,\n",
        "        'total_tax': total_tax,\n",
        "        'net_income': net_income\n",
        "    }\n",
        "\n",
        "@app.route('/')\n",
        "def home():\n",
        "    return render_template('index.html')\n",
        "\n",
        "@app.route('/calculate', methods=['POST'])\n",
        "def calculate():\n",
        "    data = request.json\n",
        "    income = float(data.get('income', 0))\n",
        "    deductions = float(data.get('deductions', 0))\n",
        "    result = calculate_tax(income, deductions)\n",
        "    return jsonify(result)\n",
        "\n",
        "if __name__ == '__main__':\n",
        "    app.run(debug=True)\n"
      ]
    }
  ]
}